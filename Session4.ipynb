{
 "cells": [
  {
   "cell_type": "markdown",
   "metadata": {},
   "source": [
    "## Primer Notebook Python\n",
    "Sesión 4 del Curso Intro a la Programación "
   ]
  },
  {
   "cell_type": "markdown",
   "metadata": {},
   "source": [
    "### Ejercicios\n",
    "\n",
    "____\n",
    "\n",
    "__1.__ Crear un \"Hello World!\""
   ]
  },
  {
   "cell_type": "code",
   "execution_count": 6,
   "metadata": {
    "collapsed": true,
    "jupyter": {
     "outputs_hidden": true,
     "source_hidden": true
    }
   },
   "outputs": [
    {
     "name": "stdout",
     "output_type": "stream",
     "text": [
      "Hello World!\n"
     ]
    }
   ],
   "source": [
    "#Nuestro primer Hello World\n",
    "print('Hello World!')"
   ]
  },
  {
   "cell_type": "markdown",
   "metadata": {},
   "source": [
    "__2.__ Crear una función que reciba el param 'nombre' y retorne \"Hello, __nombre__\""
   ]
  },
  {
   "cell_type": "code",
   "execution_count": 5,
   "metadata": {
    "collapsed": true,
    "jupyter": {
     "outputs_hidden": true,
     "source_hidden": true
    }
   },
   "outputs": [
    {
     "data": {
      "text/plain": [
       "'Hello, Alejandra!'"
      ]
     },
     "execution_count": 5,
     "metadata": {},
     "output_type": "execute_result"
    }
   ],
   "source": [
    "# Función para saludar\n",
    "def say_hello(recipient):\n",
    "    return 'Hello, {}!'.format(recipient)\n",
    "say_hello('Alejandra')"
   ]
  },
  {
   "cell_type": "markdown",
   "metadata": {},
   "source": [
    "__3.__ Crear función que reciba un número \"x\" y saque el cuadrado de \"x\"\n",
    "\n",
    "_Si declaramos variables o librerias va a estar disponible en las demás cells._\n",
    "\n",
    "`conda install numpy`"
   ]
  },
  {
   "cell_type": "code",
   "execution_count": 21,
   "metadata": {},
   "outputs": [],
   "source": [
    "# Función para sacar el cuadrado de x\n",
    "import numpy as np\n",
    "def square(x):\n",
    "    return x * x"
   ]
  },
  {
   "cell_type": "markdown",
   "metadata": {},
   "source": [
    "__4.__ Crear variable x que sea un número aleatorio entre  1 y 10\n",
    "\n",
    "__5.__ Crear una varibale que sea el valor de la función square() con param \"x\""
   ]
  },
  {
   "cell_type": "code",
   "execution_count": 22,
   "metadata": {
    "collapsed": true,
    "jupyter": {
     "outputs_hidden": true,
     "source_hidden": true
    }
   },
   "outputs": [
    {
     "name": "stdout",
     "output_type": "stream",
     "text": [
      "4 squared is 16\n"
     ]
    }
   ],
   "source": [
    "# x genera un número aletorio entre 1 y 10\n",
    "# El valor de la función square() es asignado a y\n",
    "x = np.random.randint(1, 10)\n",
    "y = square(x)\n",
    "print('%d squared is %d' % (x, y))"
   ]
  },
  {
   "cell_type": "markdown",
   "metadata": {},
   "source": [
    "__6.__ Crear función multiplicadora o que sume ambos números si la multiplicación tiene como resultado un número mayor a 1000. Output esperado:\n",
    "```\n",
    "Ingresa el primer número 10\n",
    "Ingresa el segundo número 20\n",
    "El resultado es 200\n",
    "```"
   ]
  },
  {
   "cell_type": "code",
   "execution_count": 1,
   "metadata": {
    "collapsed": true,
    "jupyter": {
     "outputs_hidden": true,
     "source_hidden": true
    }
   },
   "outputs": [
    {
     "name": "stdin",
     "output_type": "stream",
     "text": [
      "Ingresa el primer número  9\n",
      "Ingresa el segundo número 9\n"
     ]
    },
    {
     "name": "stdout",
     "output_type": "stream",
     "text": [
      "El resultado es 81\n"
     ]
    }
   ],
   "source": [
    "def multiplication_or_sum(num1, num2):\n",
    "  product = num1 *num2\n",
    "  if(product < 1000):\n",
    "    return product\n",
    "  else:\n",
    "    return num1 +num2\n",
    "\n",
    "number1 = int(input(\"Ingresa el primer número \"))\n",
    "number2 = int(input(\"Ingresa el segundo número\"))\n",
    "\n",
    "result = multiplication_or_sum(number1, number2)\n",
    "print(\"El resultado es\", result)"
   ]
  },
  {
   "cell_type": "markdown",
   "metadata": {},
   "source": [
    "__7.__ Crear función que sume el número actual y el anterior en un rango dado"
   ]
  },
  {
   "cell_type": "code",
   "execution_count": 7,
   "metadata": {
    "collapsed": true,
    "jupyter": {
     "outputs_hidden": true,
     "source_hidden": true
    }
   },
   "outputs": [
    {
     "name": "stdout",
     "output_type": "stream",
     "text": [
      "Imprimiendo la suma del número actual y anterior en un rango\n",
      "0\n",
      "1\n",
      "3\n",
      "5\n",
      "7\n"
     ]
    }
   ],
   "source": [
    "def sumNum(num):\n",
    "  previousNum=0\n",
    "  for i in range(num):\n",
    "    sum = previousNum + i\n",
    "    print(sum)\n",
    "    previousNum = i\n",
    "    \n",
    "print(\"Imprimiendo la suma del número actual y anterior en un rango\")\n",
    "sumNum(5)"
   ]
  },
  {
   "cell_type": "markdown",
   "metadata": {},
   "source": [
    "__8.__ Función que imprima los caracteres pares de un string. Output esperado:\n",
    "```\n",
    "Ingrese String  hola\n",
    "Orginal String  pynative\n",
    "Imprimir solo pares\n",
    "index[ 0 ] h\n",
    "index[ 2 ] l\n",
    "\n",
    "```"
   ]
  },
  {
   "cell_type": "code",
   "execution_count": 8,
   "metadata": {
    "collapsed": true,
    "jupyter": {
     "outputs_hidden": true,
     "source_hidden": true
    }
   },
   "outputs": [
    {
     "name": "stdin",
     "output_type": "stream",
     "text": [
      "Ingrese String coronavirus\n"
     ]
    },
    {
     "name": "stdout",
     "output_type": "stream",
     "text": [
      "Orginal String coronavirus\n",
      "Imprimir solo pares\n",
      "index[ 0 ] c\n",
      "index[ 2 ] r\n",
      "index[ 4 ] n\n",
      "index[ 6 ] v\n",
      "index[ 8 ] r\n"
     ]
    }
   ],
   "source": [
    "def printEveIndexChar(str):\n",
    "  for i in range(0, len(str) -1, 2):\n",
    "    print(\"index[\",i,\"]\", str[i] )\n",
    "\n",
    "inputStr = input(\"Ingrese String\")\n",
    "print(\"Orginal String\", inputStr)\n",
    "\n",
    "print(\"Imprimir solo pares\")\n",
    "printEveIndexChar(inputStr)"
   ]
  },
  {
   "cell_type": "markdown",
   "metadata": {},
   "source": [
    "__9.__ Función con params string e integer, que remueva los caracteres del  string del 0 al integer.\n",
    "\n",
    "Output:\n",
    "\n",
    "```\n",
    "Remover n caracteres\n",
    "navirus\n",
    "```"
   ]
  },
  {
   "cell_type": "code",
   "execution_count": 9,
   "metadata": {
    "collapsed": true,
    "jupyter": {
     "outputs_hidden": true,
     "source_hidden": true
    }
   },
   "outputs": [
    {
     "name": "stdout",
     "output_type": "stream",
     "text": [
      "Remover n caracteres\n",
      "navirus\n"
     ]
    }
   ],
   "source": [
    "def removeChars(str, n):\n",
    "  return str[n:]\n",
    "\n",
    "print(\"Remover n caracteres\")\n",
    "print(removeChars(\"coronavirus\", 4))"
   ]
  },
  {
   "cell_type": "markdown",
   "metadata": {},
   "source": [
    "__10.__ Función que devuelva True si el primero y último elemento de una lista de integers son iguales."
   ]
  },
  {
   "cell_type": "code",
   "execution_count": 11,
   "metadata": {
    "collapsed": true,
    "jupyter": {
     "outputs_hidden": true,
     "source_hidden": true
    }
   },
   "outputs": [
    {
     "name": "stdout",
     "output_type": "stream",
     "text": [
      "Resultado: False\n"
     ]
    }
   ],
   "source": [
    "def isFirst_And_Last_Same(numberList):\n",
    "  firstElement = numberList[0]\n",
    "  lastElement =  numberList[-1]\n",
    "  if(firstElement == lastElement):\n",
    "    return True\n",
    "  else:\n",
    "    return False\n",
    "\n",
    "numList = [11, 20, 30, 40, 10]\n",
    "\n",
    "print(\"Resultado:\", isFirst_And_Last_Same(numList))"
   ]
  },
  {
   "cell_type": "markdown",
   "metadata": {},
   "source": [
    "__11.__ Crear función que haga este patrón\n",
    "```\n",
    "1 \n",
    "2 2 \n",
    "3 3 3 \n",
    "4 4 4 4 \n",
    "5 5 5 5 5\n",
    "```"
   ]
  },
  {
   "cell_type": "code",
   "execution_count": 12,
   "metadata": {
    "collapsed": true,
    "jupyter": {
     "outputs_hidden": true,
     "source_hidden": true
    }
   },
   "outputs": [
    {
     "name": "stdout",
     "output_type": "stream",
     "text": [
      "\n",
      "\n",
      "1 \n",
      "\n",
      "2 2 \n",
      "\n",
      "3 3 3 \n",
      "\n",
      "4 4 4 4 \n",
      "\n",
      "5 5 5 5 5 \n",
      "\n",
      "6 6 6 6 6 6 \n",
      "\n",
      "7 7 7 7 7 7 7 \n",
      "\n",
      "8 8 8 8 8 8 8 8 \n",
      "\n",
      "9 9 9 9 9 9 9 9 9 \n",
      "\n"
     ]
    }
   ],
   "source": [
    "for num in range(10):\n",
    "    for i in range(num):\n",
    "        print (num, end=\" \") \n",
    "    # salto de línea\n",
    "    print(\"\\n\")"
   ]
  },
  {
   "cell_type": "markdown",
   "metadata": {},
   "source": [
    "__12.__ Lista que contenga los impares de la primera y los pares de la segunda."
   ]
  },
  {
   "cell_type": "code",
   "execution_count": 2,
   "metadata": {
    "collapsed": true,
    "jupyter": {
     "outputs_hidden": true,
     "source_hidden": true
    }
   },
   "outputs": [
    {
     "name": "stdout",
     "output_type": "stream",
     "text": [
      "Merged List is\n",
      "[23, 11, 17, 24, 36, 12]\n"
     ]
    }
   ],
   "source": [
    "def mergeList(listOne, listTwo):\n",
    "  thirdList = []\n",
    "  for num in listOne:\n",
    "    if(num % 2 != 0):\n",
    "      thirdList.append(num)\n",
    "  for num in listTwo:\n",
    "    if(num % 2 == 0):\n",
    "      thirdList.append(num)\n",
    "  return thirdList\n",
    "    \n",
    "print(\"Merged List is\")\n",
    "listOne = [10, 20, 23, 11, 17]\n",
    "listTwo = [13, 43, 24, 36, 12]\n",
    "\n",
    "print(mergeList(listOne, listTwo))"
   ]
  },
  {
   "cell_type": "markdown",
   "metadata": {},
   "source": [
    "__13.__ Magic Ball Code"
   ]
  },
  {
   "cell_type": "code",
   "execution_count": 1,
   "metadata": {
    "collapsed": true,
    "jupyter": {
     "outputs_hidden": true,
     "source_hidden": true
    }
   },
   "outputs": [
    {
     "name": "stdout",
     "output_type": "stream",
     "text": [
      "  __  __          _____ _____ _____    ___  \n",
      " |  \\/  |   /\\   / ____|_   _/ ____|  / _ \\ \n",
      " | \\  / |  /  \\ | |  __  | || |      | (_) |\n",
      " | |\\/| | / /\\ \\| | |_ | | || |       > _ < \n",
      " | |  | |/ ____ \\ |__| |_| || |____  | (_) |\n",
      " |_|  |_/_/    \\_\\_____|_____\\_____|  \\___/ \n",
      "\n",
      "\n",
      "\n",
      "Hello World, I am the Magic 8 Ball, What is your name?\n"
     ]
    },
    {
     "name": "stdin",
     "output_type": "stream",
     "text": [
      " Rolando\n"
     ]
    },
    {
     "name": "stdout",
     "output_type": "stream",
     "text": [
      "hello Rolando\n",
      "Ask me a question.\n"
     ]
    },
    {
     "name": "stdin",
     "output_type": "stream",
     "text": [
      " Me odias?\n"
     ]
    },
    {
     "name": "stdout",
     "output_type": "stream",
     "text": [
      "Most likely\n",
      "I hope that helped!\n",
      "Do you have another question? [Y/N] \n"
     ]
    },
    {
     "name": "stdin",
     "output_type": "stream",
     "text": [
      " Y\n"
     ]
    },
    {
     "name": "stdout",
     "output_type": "stream",
     "text": [
      "Ask me a question.\n"
     ]
    },
    {
     "name": "stdin",
     "output_type": "stream",
     "text": [
      " auxilio\n"
     ]
    },
    {
     "name": "stdout",
     "output_type": "stream",
     "text": [
      "try again\n",
      "I hope that helped!\n",
      "Do you have another question? [Y/N] \n"
     ]
    },
    {
     "name": "stdin",
     "output_type": "stream",
     "text": [
      " Y\n"
     ]
    },
    {
     "name": "stdout",
     "output_type": "stream",
     "text": [
      "Ask me a question.\n"
     ]
    },
    {
     "name": "stdin",
     "output_type": "stream",
     "text": [
      " no\n"
     ]
    },
    {
     "name": "stdout",
     "output_type": "stream",
     "text": [
      "Most likely\n",
      "I hope that helped!\n",
      "Do you have another question? [Y/N] \n"
     ]
    },
    {
     "name": "stdin",
     "output_type": "stream",
     "text": [
      " N\n"
     ]
    },
    {
     "name": "stdout",
     "output_type": "stream",
     "text": [
      "Bye\n"
     ]
    }
   ],
   "source": [
    "#Make a Magic 8 ball\n",
    "#https://github.com/viljow/magic8/blob/master/main.py\n",
    "import random\n",
    "answers = ['It is certain', 'It is decidedly so', 'Without a doubt', 'Yes – definitely', 'You may rely on it', 'As I see it, yes', 'Most likely', 'Outlook good', 'Yes Signs point to yes', 'Reply hazy', 'try again', 'Ask again later', 'Better not tell you now', 'Cannot predict now', 'Concentrate and ask again', 'Dont count on it', 'My reply is no', 'My sources say no', 'Outlook not so good', 'Very doubtful']\n",
    "\n",
    "print('  __  __          _____ _____ _____    ___  ')\n",
    "print(' |  \\/  |   /\\   / ____|_   _/ ____|  / _ \\ ')\n",
    "print(' | \\  / |  /  \\ | |  __  | || |      | (_) |')\n",
    "print(' | |\\/| | / /\\ \\| | |_ | | || |       > _ < ')\n",
    "print(' | |  | |/ ____ \\ |__| |_| || |____  | (_) |')\n",
    "print(' |_|  |_/_/    \\_\\_____|_____\\_____|  \\___/ ')\n",
    "print('')\n",
    "print('')\n",
    "print('')\n",
    "print('Hello World, I am the Magic 8 Ball, What is your name?')\n",
    "name = input()\n",
    "print('hello ' + name)\n",
    "\n",
    "\n",
    "def Magic8Ball():\n",
    "    print('Ask me a question.')\n",
    "    input()\n",
    "    print (answers[random.randint(0, len(answers)-1)] )\n",
    "    print('I hope that helped!')\n",
    "    Replay()\n",
    "    \n",
    "\n",
    "def Replay():\n",
    "    print ('Do you have another question? [Y/N] ')\n",
    "    reply = input()\n",
    "    if reply == 'Y':\n",
    "        Magic8Ball()\n",
    "    elif reply == 'N':\n",
    "        exit()\n",
    "        print('Bye')\n",
    "    else:\n",
    "        print('I apologies, I did not catch that. Please repeat.')\n",
    "        Replay()\n",
    "\n",
    "\t\t\n",
    "Magic8Ball()"
   ]
  }
 ],
 "metadata": {
  "kernelspec": {
   "display_name": "Python 3",
   "language": "python",
   "name": "python3"
  },
  "language_info": {
   "codemirror_mode": {
    "name": "ipython",
    "version": 3
   },
   "file_extension": ".py",
   "mimetype": "text/x-python",
   "name": "python",
   "nbconvert_exporter": "python",
   "pygments_lexer": "ipython3",
   "version": "3.7.4"
  }
 },
 "nbformat": 4,
 "nbformat_minor": 4
}
